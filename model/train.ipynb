{
 "cells": [
  {
   "cell_type": "code",
   "execution_count": 6,
   "metadata": {},
   "outputs": [
    {
     "name": "stdout",
     "output_type": "stream",
     "text": [
      "Warning: Cannot change to a different GUI toolkit: qt. Using notebook instead.\n"
     ]
    }
   ],
   "source": [
    "%matplotlib qt"
   ]
  },
  {
   "cell_type": "code",
   "execution_count": 2,
   "metadata": {
    "scrolled": true
   },
   "outputs": [],
   "source": [
    "# import \n",
    "import keras\n",
    "from keras.models import Sequential\n",
    "from keras.layers import Dense\n",
    "import numpy\n",
    "\n",
    "import sys\n",
    "sys.path.append(r\"/Users/god/bison_not_seminar\")"
   ]
  },
  {
   "cell_type": "code",
   "execution_count": 3,
   "metadata": {
    "scrolled": true
   },
   "outputs": [],
   "source": [
    "# import for read a file (fif)\n",
    "from src.Plotter.OfflinePlots.MPLPrinter import MPLPrinter\n",
    "from src.Plotter.OfflinePlots.MPLPrinter import DetectionMode\n",
    "from src.Unicorn_Recorder.Dummies import RealData\n",
    "import mne\n",
    "import os\n",
    "from src.Utils import Utils\n",
    "from pathlib import Path"
   ]
  },
  {
   "cell_type": "code",
   "execution_count": 4,
   "metadata": {},
   "outputs": [
    {
     "name": "stdout",
     "output_type": "stream",
     "text": [
      "Opening raw data file /Users/god/bison_not_seminar/visual_stress_data/20-4_blur4px_font20pt_sansserif_count9_no1.fif...\n",
      "Isotrak not found\n",
      "    Range : 0 ... 40440 =      0.000 ...   161.760 secs\n",
      "Ready.\n",
      "Reading 0 ... 40440  =      0.000 ...   161.760 secs...\n",
      "(17, 40441)\n",
      "[  0   0 241]\n",
      "[   1    0 5261]\n",
      "[    0     0 10281]\n",
      "[    1     0 15301]\n",
      "[    0     0 20321]\n",
      "[    1     0 25341]\n",
      "[    0     0 30361]\n",
      "[    1     0 35391]\n",
      "(8, 40441)\n"
     ]
    },
    {
     "name": "stderr",
     "output_type": "stream",
     "text": [
      "<ipython-input-4-5703fcdeda2d>:6: RuntimeWarning: This filename (/Users/god/bison_not_seminar/visual_stress_data/20-4_blur4px_font20pt_sansserif_count9_no1.fif) does not conform to MNE naming conventions. All raw files should end with raw.fif, raw_sss.fif, raw_tsss.fif, raw.fif.gz, raw_sss.fif.gz, raw_tsss.fif.gz or _meg.fif\n",
      "  raw = mne.io.read_raw_fif(inputdatapath, preload=True)\n"
     ]
    }
   ],
   "source": [
    "# Data import \n",
    "datadir = Path(r'/Users/god/bison_not_seminar/visual_stress_data')\n",
    "inputdatapath = datadir / '20-4_blur4px_font20pt_sansserif_count9_no1.fif'\n",
    "#printer = MPLPrinter(250)\n",
    "\n",
    "raw = mne.io.read_raw_fif(inputdatapath, preload=True)\n",
    "#print(\"Raw shape \", raw)\n",
    "events = raw.info[\"events\"]\n",
    "events = [event[\"list\"] for event in events]\n",
    "#print(\"Events\", events)\n",
    "data = raw.get_data(RealData.UNICORN_ELECTRODES)\n",
    "print(data.shape)\n",
    "\n",
    "for e in events:\n",
    "    print(e)\n",
    "    \n",
    "channels = 8\n",
    "channeldata = data[:channels, :]\n",
    "print(channeldata.shape)"
   ]
  },
  {
   "cell_type": "code",
   "execution_count": 5,
   "metadata": {},
   "outputs": [
    {
     "name": "stdout",
     "output_type": "stream",
     "text": [
      "Opening raw data file /Users/god/bison_not_seminar/visual_stress_data/20-4_blur4px_font20pt_sansserif_count9_no1.fif...\n",
      "Isotrak not found\n",
      "    Range : 0 ... 40440 =      0.000 ...   161.760 secs\n",
      "Ready.\n",
      "Reading 0 ... 40440  =      0.000 ...   161.760 secs...\n",
      "<Info | 10 non-empty values\n",
      " bads: []\n",
      " ch_names: EEG0, EEG1, EEG2, EEG3, EEG4, EEG5, EEG6, EEG7, EEG8, EEG9, ...\n",
      " chs: 8 EEG, 9 MISC\n",
      " custom_ref_applied: False\n",
      " events: 8 items (list)\n",
      " file_id: 4 items (dict)\n",
      " highpass: 0.0 Hz\n",
      " lowpass: 125.0 Hz\n",
      " meas_date: unspecified\n",
      " meas_id: 4 items (dict)\n",
      " nchan: 17\n",
      " projs: []\n",
      " sfreq: 250.0 Hz\n",
      ">\n",
      "Shape of events is [array([  0,   0, 241], dtype=int32), array([   1,    0, 5261], dtype=int32), array([    0,     0, 10281], dtype=int32), array([    1,     0, 15301], dtype=int32), array([    0,     0, 20321], dtype=int32), array([    1,     0, 25341], dtype=int32), array([    0,     0, 30361], dtype=int32), array([    1,     0, 35391], dtype=int32)]\n"
     ]
    },
    {
     "name": "stderr",
     "output_type": "stream",
     "text": [
      "<ipython-input-5-d7690e2ac5af>:7: RuntimeWarning: This filename (/Users/god/bison_not_seminar/visual_stress_data/20-4_blur4px_font20pt_sansserif_count9_no1.fif) does not conform to MNE naming conventions. All raw files should end with raw.fif, raw_sss.fif, raw_tsss.fif, raw.fif.gz, raw_sss.fif.gz, raw_tsss.fif.gz or _meg.fif\n",
      "  raw = mne.io.read_raw_fif(inputdatapath, preload=True)\n"
     ]
    }
   ],
   "source": [
    "#eeg_data = channeldata\n",
    "ch_types = ['eeg'] * 8\n",
    "ch_names = ['EEG{}'.format(i) for i in range(8)]\n",
    "sfreq = 250\n",
    "info = mne.create_info (ch_names = ch_names, sfreq = sfreq, ch_types = ch_types)\n",
    "#raw = mne.io.RawArray (eeg_data, info)\n",
    "raw = mne.io.read_raw_fif(inputdatapath, preload=True)\n",
    "print(raw.info)\n",
    "event_dict = {'focused':0, 'blurred': 1}\n",
    "\n",
    "\n",
    "# print(events[:,2])|\n",
    "print(\"Shape of events is {}\".format(events))\n",
    "fig = mne.viz.plot_events(events, sfreq=raw.info['sfreq'],\n",
    "                          first_samp=raw.first_samp)\n",
    "fig.subplots_adjust(right=0.7)  # make room for legend\n",
    "\n",
    "#raw.notch_filter(numpy.arange(50, 100, 50), notch_widths=5, filter_length='auto',\n",
    "#                 phase='zero')\n",
    "# its time to plot something!\n",
    "#raw.plot_psd(average = False)\n",
    "#raw.plot(n_channels=len(raw.ch_names))\n",
    "raw = raw.pick(['eeg'])"
   ]
  },
  {
   "cell_type": "code",
   "execution_count": null,
   "metadata": {},
   "outputs": [],
   "source": [
    "def chunks(lst, n):\n",
    "    \"\"\"Yield successive n-sized chunks from lst.\"\"\"\n",
    "\n",
    "    for i in range(0, len(lst), n):\n",
    "        yield lst[i:i + n]"
   ]
  },
  {
   "cell_type": "code",
   "execution_count": null,
   "metadata": {},
   "outputs": [],
   "source": [
    "# Bucketing data \n",
    "X_train = []\n",
    "y_train = []\n",
    "samplerate = 250\n",
    "\n",
    "windows = []\n",
    "for i in range(len(events)):\n",
    "    # data\n",
    "    e = events[i]\n",
    "    start_index = e[2]\n",
    "    if i == len(events)-1:\n",
    "        end_index = data.shape[1]\n",
    "    else:\n",
    "        end_index = events[i+1][2]\n",
    "    windows.append(end_index - start_index)\n",
    "\n",
    "window_size = int(min(windows)/samplerate)*samplerate\n",
    "print('Window size {}'.format(window_size))\n",
    "\n",
    "\n",
    "# loop over events\n",
    "for i in range(len(events)):\n",
    "    # get the event\n",
    "    e = events[i]\n",
    "    \n",
    "    # window markers\n",
    "    start_index = e[2]\n",
    "    end_index = start_index + window_size\n",
    "    \n",
    "    # shape: (8, 250)\n",
    "    example_buckets = [[[] for _ in range(channels)] for _ in range(20)] \n",
    "    \n",
    "    # loop through the channels and cut out the window for each, append the window to tmp\n",
    "    for chaNo in range(len(channeldata)):\n",
    "        window = channeldata[chaNo][start_index:end_index]\n",
    "        chunked_windows = list(chunks(window, samplerate))\n",
    "        # expecting len = 20\n",
    "        for i in range(len(chunked_windows)):\n",
    "            example_buckets[i][chaNo] = chunked_windows[i]\n",
    "        #print(numpy.asarray(example_buckets).shape)\n",
    "    \n",
    "    chunks_per_window = len(example_buckets)\n",
    "    for _ in range(chunks_per_window):\n",
    "        y_train.append(e[0])\n",
    "        \n",
    "        \n",
    "    for example in example_buckets:\n",
    "        X_train.append(example)\n",
    "    \n",
    "X_train = numpy.asarray(X_train)\n",
    "y_train = numpy.asarray(y_train)\n",
    "print(X_train.shape)\n",
    "print(y_train.shape)\n",
    "\n"
   ]
  },
  {
   "cell_type": "code",
   "execution_count": null,
   "metadata": {},
   "outputs": [],
   "source": [
    "X_train = X_train.reshape(X_train.shape[0], -1)\n",
    "print(X_train.shape)"
   ]
  },
  {
   "cell_type": "code",
   "execution_count": null,
   "metadata": {},
   "outputs": [],
   "source": [
    "# Data processing and formating"
   ]
  },
  {
   "cell_type": "code",
   "execution_count": null,
   "metadata": {},
   "outputs": [],
   "source": [
    "# model\n",
    "model = Sequential()\n",
    "model.add(keras.Input(shape=samplerate*channels))\n",
    "model.add(Dense(256, activation='relu'))\n",
    "model.add(Dense(256, activation='relu'))\n",
    "model.add(Dense(32, activation='relu'))\n",
    "model.add(Dense(1, activation = 'sigmoid'))"
   ]
  },
  {
   "cell_type": "code",
   "execution_count": null,
   "metadata": {},
   "outputs": [],
   "source": [
    "# compilation\n",
    "model.compile(loss='binary_crossentropy', optimizer='adam', metrics=['accuracy'])"
   ]
  },
  {
   "cell_type": "code",
   "execution_count": null,
   "metadata": {},
   "outputs": [],
   "source": [
    "# fit model\n",
    "training = model.fit(X_train, y_train, epochs=50, batch_size=16)"
   ]
  },
  {
   "cell_type": "code",
   "execution_count": null,
   "metadata": {},
   "outputs": [],
   "source": [
    "# predictions\n",
    "predictions = model.predict(X_test)"
   ]
  },
  {
   "cell_type": "code",
   "execution_count": null,
   "metadata": {},
   "outputs": [],
   "source": []
  }
 ],
 "metadata": {
  "kernelspec": {
   "display_name": "Python 3",
   "language": "python",
   "name": "python3"
  },
  "language_info": {
   "codemirror_mode": {
    "name": "ipython",
    "version": 3
   },
   "file_extension": ".py",
   "mimetype": "text/x-python",
   "name": "python",
   "nbconvert_exporter": "python",
   "pygments_lexer": "ipython3",
   "version": "3.8.0"
  }
 },
 "nbformat": 4,
 "nbformat_minor": 4
}
